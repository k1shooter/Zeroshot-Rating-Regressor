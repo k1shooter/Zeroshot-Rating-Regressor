{
 "cells": [
  {
   "cell_type": "code",
   "execution_count": null,
   "metadata": {
    "colab": {
     "base_uri": "https://localhost:8080/",
     "height": 344,
     "referenced_widgets": [
      "954794e45beb4bc0a1a0da1c9730adf6",
      "d9ec481dd3cd45ff9d67645c0195c381",
      "a7d2c43e3045454c9384c6a39150a53e",
      "9bd9fe0b854c4a8290046b162427abdf",
      "46bc1035714e4da29219361a650c229e",
      "23277e353d374520ac2b6a90d9273cd5",
      "2d1ceb1f0209448d9c03c3897928f766",
      "cdc54077586848f4a4da4e24380e6105",
      "b826558fb2c2433ab3d4daa4c8a0dd0c",
      "27f2ebd02c334ce6862651e6f2c04542",
      "6e2dc1a5815a4914bc31e981cb970902",
      "31a308fcea6c4d90b999514ad377a24a",
      "e64110d06e0c4ef6a10010a8aa20cd3a",
      "84a074afa4f34d528dd417eae9f99be8",
      "01f52e8b5bf34b8db4c5ac0db24f3c96",
      "a629244abe194ece956ea1cb72c88797",
      "6290dc454a9a40b4805fb0dd111a66b6",
      "63b88f2c2bb24513a04272467bf190fa",
      "6501f7855943441388812385da458918",
      "cefbcbded99a494cb491751dd6e9d17d",
      "fd8aa33a72474f4cbd8a1c2e6a3110ee",
      "058241b37ed64901a3f61465f65d6a67",
      "433b62e2e247450ba9948d60e3767906",
      "f10c9fef5412414b9e6888221dfeace6",
      "453aaa2a7b28471595c5bbe69d7f7a86",
      "2aa024bc18094f63a63b14260be9722f",
      "50767b2e68a544188387902a7a7184e9",
      "a29e312e9d454bccb3fa7755297ca2db",
      "373d246d99c04dc896c32802fb302897",
      "5542d34c2d84486bbe0f9844858d7a9b",
      "bf2950b2242b468eaeada7c4e04c3c7a",
      "7f1aa1bc811c4842b7582aab682b8956",
      "6f3061bef7f44223b43fcde2b61f0a4e",
      "a7405d7433d0448facc65e6b5ce153c0",
      "0ef029e65aa443fbaae17da9855ac4f8",
      "2904102b284647c5b81e655af51a7121",
      "4d53807ddfaa4ed5a5432c737de84734",
      "7a720b864426411ab8f14bd384915e4f",
      "5daad239fcc94be9857cb1f1a856dc4d",
      "2e1f8840e9c84927a2bd8c9423cee748",
      "1e72603492af422b9ce00088ab086bd2",
      "ba92c070352b4124aeea943b39dd18f6",
      "0f6af1a2bfa94428bd8de938c9a9538f",
      "ff7485e2d2ce46c2b0b83b9d9070e20b",
      "22b48cb7f91b4028814ef88e311ae9e0",
      "c1605027da8d454da9afaeebf499ecb9",
      "2990bbb2917549e9a9cbda7954885bc6",
      "6ab1a8dfbbd94a0d8ac7a4dbe2ee135f",
      "c1cdbbcb29b74c1096e7508b18d439a8",
      "726cce8fd25545b4a034243d187815a5",
      "4f6c0ad7dacd41e39a95fc4bba77f05e",
      "7bc09275588a4c59bae00d0ed81c6c7c",
      "ab305e08c5dc489fb63f301d250a783b",
      "7756cf82c1554859aa9d4294f94747f3",
      "a890c2a13c4a4c2db7121de5775f0006"
     ]
    },
    "executionInfo": {
     "elapsed": 23069,
     "status": "ok",
     "timestamp": 1748847936129,
     "user": {
      "displayName": "김승준",
      "userId": "02417001283222051753"
     },
     "user_tz": -540
    },
    "id": "TQ80UjNur3Bl",
    "outputId": "270a5e01-aa49-4719-d18a-1066255366d7"
   },
   "outputs": [],
   "source": [
    "import torch\n",
    "from transformers import BertTokenizer, BertModel\n",
    "tokenizer = BertTokenizer.from_pretrained('bert-base-uncased')\n",
    "model = BertModel.from_pretrained(\"bert-base-uncased\")\n",
    "\n",
    "text = \"Smiling Girl\"\n",
    "inputs = tokenizer.batch_encode_plus([text])\n",
    "out = model(input_ids = torch.tensor(inputs['input_ids']),\n",
    "              attention_mask = torch.tensor(inputs['attention_mask']))\n",
    "\n",
    "text2 = \"Smiling Man\"\n",
    "inputs2 = tokenizer.batch_encode_plus([text2])\n",
    "out2 = model(input_ids = torch.tensor(inputs2['input_ids']),\n",
    "              attention_mask = torch.tensor(inputs2['attention_mask']))\n",
    "\n",
    "text3 = \"Man\"\n",
    "inputs3 = tokenizer.batch_encode_plus([text3])\n",
    "out3 = model(input_ids = torch.tensor(inputs3['input_ids']),\n",
    "              attention_mask = torch.tensor(inputs3['attention_mask']))\n",
    "\n",
    "text4= \"Girl\"\n",
    "inputs4 = tokenizer.batch_encode_plus([text4])\n",
    "out4 = model(input_ids = torch.tensor(inputs4['input_ids']),\n",
    "              attention_mask = torch.tensor(inputs4['attention_mask']))"
   ]
  },
  {
   "cell_type": "code",
   "execution_count": null,
   "metadata": {
    "id": "QASwoJttrrgV"
   },
   "outputs": [],
   "source": [
    "text = \"Man\"\n",
    "encoded_input = tokenizer(text, return_tensors='pt')\n",
    "output = model(**encoded_input)"
   ]
  },
  {
   "cell_type": "code",
   "execution_count": null,
   "metadata": {
    "colab": {
     "base_uri": "https://localhost:8080/"
    },
    "executionInfo": {
     "elapsed": 100,
     "status": "ok",
     "timestamp": 1748755187448,
     "user": {
      "displayName": "김승준",
      "userId": "02417001283222051753"
     },
     "user_tz": -540
    },
    "id": "1wyQ4YIOrwdE",
    "outputId": "93e1a96c-1db6-4b04-ab2d-67b0ee7a3d56"
   },
   "outputs": [],
   "source": [
    "output"
   ]
  },
  {
   "cell_type": "code",
   "execution_count": null,
   "metadata": {
    "colab": {
     "base_uri": "https://localhost:8080/"
    },
    "executionInfo": {
     "elapsed": 6,
     "status": "ok",
     "timestamp": 1748755188953,
     "user": {
      "displayName": "김승준",
      "userId": "02417001283222051753"
     },
     "user_tz": -540
    },
    "id": "SWCGP1bPr6jl",
    "outputId": "b109fdfb-7ede-467a-e28f-5a544a1d7ccd"
   },
   "outputs": [],
   "source": [
    "encoded_input"
   ]
  },
  {
   "cell_type": "code",
   "execution_count": null,
   "metadata": {
    "colab": {
     "base_uri": "https://localhost:8080/"
    },
    "executionInfo": {
     "elapsed": 4,
     "status": "ok",
     "timestamp": 1748755189514,
     "user": {
      "displayName": "김승준",
      "userId": "02417001283222051753"
     },
     "user_tz": -540
    },
    "id": "fgDTEHPYxtcA",
    "outputId": "16953077-291d-40c2-dec5-a5f0835e9e3f"
   },
   "outputs": [],
   "source": [
    "model.embeddings.word_embeddings"
   ]
  },
  {
   "cell_type": "code",
   "execution_count": null,
   "metadata": {
    "colab": {
     "base_uri": "https://localhost:8080/"
    },
    "executionInfo": {
     "elapsed": 6,
     "status": "ok",
     "timestamp": 1748755190036,
     "user": {
      "displayName": "김승준",
      "userId": "02417001283222051753"
     },
     "user_tz": -540
    },
    "id": "ceap-EgzoJSQ",
    "outputId": "07e6e56a-30d2-476b-8977-3abde2e238d7"
   },
   "outputs": [],
   "source": [
    "inputs"
   ]
  },
  {
   "cell_type": "code",
   "execution_count": null,
   "metadata": {
    "colab": {
     "base_uri": "https://localhost:8080/"
    },
    "executionInfo": {
     "elapsed": 15,
     "status": "ok",
     "timestamp": 1748755190632,
     "user": {
      "displayName": "김승준",
      "userId": "02417001283222051753"
     },
     "user_tz": -540
    },
    "id": "GGvHh07bhL9v",
    "outputId": "7d9c2d40-44eb-410f-9a3c-a38fae6e5b86"
   },
   "outputs": [],
   "source": [
    "out.last_hidden_state[:,0].shape"
   ]
  },
  {
   "cell_type": "code",
   "execution_count": null,
   "metadata": {
    "colab": {
     "base_uri": "https://localhost:8080/"
    },
    "executionInfo": {
     "elapsed": 33,
     "status": "ok",
     "timestamp": 1748755191851,
     "user": {
      "displayName": "김승준",
      "userId": "02417001283222051753"
     },
     "user_tz": -540
    },
    "id": "5-yOPW0HqEyx",
    "outputId": "2e0a1592-9a08-4488-a84e-888d055ee07a"
   },
   "outputs": [],
   "source": [
    "import torch\n",
    "\n",
    "# 예제 텐서\n",
    "a = torch.tensor(out.last_hidden_state[:,0,:].clone().detach().requires_grad_(True))\n",
    "b = torch.tensor(out2.last_hidden_state[:,0,:].clone().detach().requires_grad_(True))\n",
    "c = torch.tensor(out3.last_hidden_state[:,0,:].detach().requires_grad_(True))\n",
    "d = torch.tensor(out4.last_hidden_state[:,0,:].detach().requires_grad_(True))\n",
    "\n",
    "# # 방법 1: 직접 계산\n",
    "distance = torch.sqrt(torch.sum((a-c) ** 2))\n",
    "distance"
   ]
  },
  {
   "cell_type": "code",
   "execution_count": null,
   "metadata": {
    "colab": {
     "base_uri": "https://localhost:8080/"
    },
    "executionInfo": {
     "elapsed": 22726,
     "status": "ok",
     "timestamp": 1748924988067,
     "user": {
      "displayName": "김승준",
      "userId": "02417001283222051753"
     },
     "user_tz": -540
    },
    "id": "mEEC6XTQGdZS",
    "outputId": "734d42e2-e981-4548-dfa6-45fe275681a0"
   },
   "outputs": [],
   "source": [
    "from google.colab import drive\n",
    "import pandas as pd\n",
    "drive.mount('/content/drive')"
   ]
  },
  {
   "cell_type": "code",
   "execution_count": null,
   "metadata": {
    "colab": {
     "base_uri": "https://localhost:8080/"
    },
    "executionInfo": {
     "elapsed": 102195,
     "status": "ok",
     "timestamp": 1748758483615,
     "user": {
      "displayName": "김승준",
      "userId": "02417001283222051753"
     },
     "user_tz": -540
    },
    "id": "OqP7u0SjHiOQ",
    "outputId": "eaf754ae-c137-4531-ab53-8362e0daba0f"
   },
   "outputs": [],
   "source": [
    "import glob\n",
    "all_files = glob.glob('/content/drive/MyDrive/deeplearning/processed_rating'+ \"/*.csv\")\n",
    "\n",
    "# 각 파일을 DataFrame으로 읽어서 리스트에 저장\n",
    "li = []\n",
    "for filename in all_files:\n",
    "    df = pd.read_csv(filename)\n",
    "    li.append(df)\n",
    "\n",
    "# DataFrame 합치기\n",
    "merged_df = pd.concat(li, axis=0, ignore_index=True)\n",
    "\n",
    "# 결과 확인\n"
   ]
  },
  {
   "cell_type": "code",
   "execution_count": null,
   "metadata": {
    "colab": {
     "base_uri": "https://localhost:8080/",
     "height": 424
    },
    "executionInfo": {
     "elapsed": 4655,
     "status": "ok",
     "timestamp": 1748758615531,
     "user": {
      "displayName": "김승준",
      "userId": "02417001283222051753"
     },
     "user_tz": -540
    },
    "id": "bdkn9tw0Irmf",
    "outputId": "72edddb6-3350-43a1-fe8e-864e8042b680"
   },
   "outputs": [],
   "source": [
    "merged_df=merged_df.reset_index()[['Category','Review','Rating']]\n",
    "merged_df"
   ]
  },
  {
   "cell_type": "code",
   "execution_count": null,
   "metadata": {
    "colab": {
     "base_uri": "https://localhost:8080/",
     "height": 899
    },
    "executionInfo": {
     "elapsed": 27,
     "status": "ok",
     "timestamp": 1748758867498,
     "user": {
      "displayName": "김승준",
      "userId": "02417001283222051753"
     },
     "user_tz": -540
    },
    "id": "o7af3jCeJjCg",
    "outputId": "39ef2f6f-41e3-4698-b1cb-afea55f57726"
   },
   "outputs": [],
   "source": [
    "merged_df['Rating'].value_counts()"
   ]
  },
  {
   "cell_type": "code",
   "execution_count": null,
   "metadata": {
    "colab": {
     "base_uri": "https://localhost:8080/"
    },
    "executionInfo": {
     "elapsed": 461750,
     "status": "ok",
     "timestamp": 1748761082770,
     "user": {
      "displayName": "김승준",
      "userId": "02417001283222051753"
     },
     "user_tz": -540
    },
    "id": "JZdkvwyxLUd1",
    "outputId": "8daebcf8-3e51-48fe-d55e-a0a63cf93e97"
   },
   "outputs": [],
   "source": [
    "# Step 1: Rating == 10.0인 데이터 분리\n",
    "df_10 = merged_df[merged_df['Rating'] == 10.0]\n",
    "df_8 = merged_df[merged_df['Rating'] == 8.0]\n",
    "df_6 = merged_df[merged_df['Rating'] == 6.0]\n",
    "df_rest = merged_df[~merged_df['Rating'].isin([10.0, 8.0, 6.0])]\n",
    "\n",
    "# Step 2: Category별로 균형 잡힌 샘플링을 위해 비율 계산\n",
    "category_counts10 = df_10['Category'].value_counts()\n",
    "category_counts8 = df_8['Category'].value_counts()\n",
    "category_counts6 = df_6['Category'].value_counts()\n",
    "total_10 = len(df_10)\n",
    "total_8 = len(df_8)\n",
    "total_6 = len(df_6)\n",
    "\n",
    "# Step 3: 전체에서 80000개만 남기기 위한 비율 기반 샘플링 수 계산\n",
    "target_total = 840000\n",
    "category_sample_counts10 = (category_counts10 / total_10 * target_total).round().astype(int)\n",
    "category_sample_counts8 = (category_counts8 / total_8 * target_total).round().astype(int)\n",
    "category_sample_counts6 = (category_counts6 / total_6 * target_total).round().astype(int)\n",
    "\n",
    "# Step 4: 각 Category에서 샘플링\n",
    "sampled_10 = pd.concat([\n",
    "    df_10[df_10['Category'] == category].sample(n=min(count, len(df_10[df_10['Category'] == category])), random_state=42)\n",
    "    for category, count in category_sample_counts10.items()\n",
    "])\n",
    "sampled_8 = pd.concat([\n",
    "    df_8[df_8['Category'] == category].sample(n=min(count, len(df_8[df_8['Category'] == category])), random_state=42)\n",
    "    for category, count in category_sample_counts8.items()\n",
    "])\n",
    "sampled_6 = pd.concat([\n",
    "    df_6[df_6['Category'] == category].sample(n=min(count, len(df_6[df_6['Category'] == category])), random_state=42)\n",
    "    for category, count in category_sample_counts6.items()\n",
    "])\n",
    "\n",
    "# Step 5: 최종 데이터프레임 만들기\n",
    "final_df = pd.concat([df_rest, sampled_10,sampled_8,sampled_6])\n",
    "\n",
    "# 결과 확인\n",
    "print(\"최종 데이터 크기:\", final_df.shape)\n",
    "print(\"Rating 분포:\\n\", final_df['Rating'].value_counts())\n",
    "print(\"10.0의 Category 다양성:\", sampled_10['Category'].nunique())\n",
    "print(\"8.0의 Category 다양성:\", sampled_8['Category'].nunique())\n",
    "print(\"6.0의 Category 다양성:\", sampled_6['Category'].nunique())"
   ]
  },
  {
   "cell_type": "code",
   "execution_count": null,
   "metadata": {
    "id": "zz128_nTSPz1"
   },
   "outputs": [],
   "source": [
    "final_df.to_csv('/content/drive/MyDrive/deeplearning/processed_rating/final.csv')"
   ]
  },
  {
   "cell_type": "code",
   "execution_count": null,
   "metadata": {
    "id": "yB-Bflt5Smip"
   },
   "outputs": [],
   "source": [
    "final_df=pd.read_csv('/content/drive/MyDrive/deeplearning/processed_rating/final.csv')"
   ]
  },
  {
   "cell_type": "code",
   "execution_count": null,
   "metadata": {
    "colab": {
     "base_uri": "https://localhost:8080/"
    },
    "executionInfo": {
     "elapsed": 54,
     "status": "ok",
     "timestamp": 1748925051037,
     "user": {
      "displayName": "김승준",
      "userId": "02417001283222051753"
     },
     "user_tz": -540
    },
    "id": "gL_grCJ9DmOa",
    "outputId": "e0357cc2-00e3-4699-aaee-700bc51b50e7"
   },
   "outputs": [],
   "source": [
    "print(\"Rating 분포:\\n\", final_df['Rating'].value_counts())"
   ]
  },
  {
   "cell_type": "code",
   "execution_count": null,
   "metadata": {
    "colab": {
     "base_uri": "https://localhost:8080/"
    },
    "executionInfo": {
     "elapsed": 2538,
     "status": "ok",
     "timestamp": 1748932549006,
     "user": {
      "displayName": "김승준",
      "userId": "02417001283222051753"
     },
     "user_tz": -540
    },
    "id": "CZOBL9eLfod0",
    "outputId": "edc0defb-edc5-45af-e324-77585ca27d4f"
   },
   "outputs": [],
   "source": [
    "print(\"Category 다양성:\", final_df['Category'].nunique())\n",
    "df_10 = final_df[final_df['Rating'] == 10.0]\n",
    "df_8 = final_df[final_df['Rating'] == 8.0]\n",
    "df_6 = final_df[final_df['Rating'] == 6.0]\n",
    "df_4 = final_df[final_df['Rating'] == 4.0]\n",
    "df_2 = final_df[final_df['Rating'] == 2.0]\n",
    "print(\"score 2 Category 다양성:\", df_2['Category'].nunique())\n",
    "print(\"score 4 Category 다양성:\", df_4['Category'].nunique())\n",
    "print(\"score 6 Category 다양성:\", df_6['Category'].nunique())\n",
    "print(\"score 8 Category 다양성:\", df_8['Category'].nunique())\n",
    "print(\"score 10 Category 다양성:\", df_10['Category'].nunique())"
   ]
  },
  {
   "cell_type": "code",
   "execution_count": null,
   "metadata": {
    "colab": {
     "base_uri": "https://localhost:8080/",
     "height": 490
    },
    "executionInfo": {
     "elapsed": 308,
     "status": "ok",
     "timestamp": 1748932650938,
     "user": {
      "displayName": "김승준",
      "userId": "02417001283222051753"
     },
     "user_tz": -540
    },
    "id": "IEFj6D7Rghh_",
    "outputId": "69aaa852-5f29-44a7-f5c2-b885360fccfd"
   },
   "outputs": [],
   "source": [
    "final_df.value_counts('Category')"
   ]
  },
  {
   "cell_type": "code",
   "execution_count": null,
   "metadata": {
    "colab": {
     "base_uri": "https://localhost:8080/",
     "height": 507
    },
    "executionInfo": {
     "elapsed": 254,
     "status": "ok",
     "timestamp": 1748932840961,
     "user": {
      "displayName": "김승준",
      "userId": "02417001283222051753"
     },
     "user_tz": -540
    },
    "id": "QQmhxGQhgz_p",
    "outputId": "21c38c6d-3678-42de-bb19-d5fab621ee46"
   },
   "outputs": [],
   "source": [
    "import numpy as np\n",
    "\n",
    "# 누적 비율 계산\n",
    "cum_sum = category_counts.cumsum()\n",
    "cum_perc = cum_sum / category_counts.sum()\n",
    "\n",
    "# 시각화\n",
    "plt.figure(figsize=(10, 5))\n",
    "plt.plot(np.arange(len(cum_perc)), cum_perc.values)\n",
    "plt.xlabel('Category Rank')\n",
    "plt.ylabel('Cumulative Percentage')\n",
    "plt.title('Cumulative Distribution of Categories')\n",
    "plt.grid(True)\n",
    "plt.tight_layout()\n",
    "plt.show()"
   ]
  },
  {
   "cell_type": "code",
   "execution_count": null,
   "metadata": {
    "colab": {
     "base_uri": "https://localhost:8080/",
     "height": 607
    },
    "executionInfo": {
     "elapsed": 342,
     "status": "ok",
     "timestamp": 1748925744683,
     "user": {
      "displayName": "김승준",
      "userId": "02417001283222051753"
     },
     "user_tz": -540
    },
    "id": "o53Q_luvGP4j",
    "outputId": "7d4dfe9c-83a9-4ff5-fb56-3066e732a78d"
   },
   "outputs": [],
   "source": [
    "import pandas as pd\n",
    "import matplotlib.pyplot as plt\n",
    "\n",
    "# 데이터 생성\n",
    "rating_data = {\n",
    "    10.0: 840000,\n",
    "    8.0: 839994,\n",
    "    6.0: 839994,\n",
    "    4.0: 834793,\n",
    "    2.0: 802544,\n",
    "    9.0: 17789,\n",
    "    7.0: 7046,\n",
    "    5.0: 2209,\n",
    "    3.0: 640,\n",
    "    1.0: 397,\n",
    "    9.6: 328,\n",
    "    9.2: 198,\n",
    "    8.8: 170,\n",
    "    8.4: 112,\n",
    "    7.6: 56,\n",
    "    7.2: 40,\n",
    "    6.8: 26,\n",
    "    6.4: 20,\n",
    "    5.6: 12,\n",
    "    4.4: 8,\n",
    "    5.2: 8,\n",
    "    4.8: 4,\n",
    "    3.2: 2,\n",
    "    3.6: 2,\n",
    "    2.8: 2\n",
    "}\n",
    "\n",
    "# DataFrame으로 변환 후 정렬\n",
    "df = pd.Series(rating_data).sort_index()\n",
    "\n",
    "# 시각화\n",
    "plt.figure(figsize=(12, 6))\n",
    "plt.bar(df.index.astype(str), df.values)\n",
    "plt.xticks(rotation=90)\n",
    "plt.xlabel(\"Rating\")\n",
    "plt.ylabel(\"Count\")\n",
    "plt.title(\"Rating Distribution\")\n",
    "plt.tight_layout()\n",
    "plt.show()"
   ]
  },
  {
   "cell_type": "code",
   "execution_count": null,
   "metadata": {
    "id": "51bs_Ok3V0HE"
   },
   "outputs": [],
   "source": [
    "from sklearn.model_selection import train_test_split\n",
    "\n",
    "# 예시 DataFrame\n",
    "# df = pd.DataFrame({'feature1': ..., 'feature2': ..., 'label': ...})\n",
    "final_df.reset_index(drop=True,inplace=True)\n",
    "X = final_df[['Category', 'Review']]  # 2개의 feature\n",
    "y = final_df['Rating']                   # 1개의 라벨\n",
    "\n",
    "X_train, X_test, y_train, y_test = train_test_split(\n",
    "    X, y, test_size=0.2, random_state=42, shuffle=True, stratify=y\n",
    ")"
   ]
  },
  {
   "cell_type": "code",
   "execution_count": null,
   "metadata": {
    "colab": {
     "base_uri": "https://localhost:8080/",
     "height": 458
    },
    "executionInfo": {
     "elapsed": 10,
     "status": "ok",
     "timestamp": 1748763700294,
     "user": {
      "displayName": "김승준",
      "userId": "02417001283222051753"
     },
     "user_tz": -540
    },
    "id": "iIsC0N6QcAU3",
    "outputId": "8470a5de-af3f-442f-bb9d-4b5a3f73c130"
   },
   "outputs": [],
   "source": [
    "y"
   ]
  },
  {
   "cell_type": "code",
   "execution_count": null,
   "metadata": {
    "id": "q67MXUOeso0B"
   },
   "outputs": [],
   "source": [
    "import torch.nn as nn\n",
    "from transformers import BertModel\n",
    "\n",
    "class RatingRegression(nn.Module):\n",
    "    def __init__(self, feature_dim, dropout=0.1):\n",
    "        super().__init__()\n",
    "        self.bert = BertModel.from_pretrained('bert-base-uncased')\n",
    "        self.dropout = nn.Dropout(dropout)\n",
    "        # 768(BERT CLS) + feature_dim(추가 feature 차원)\n",
    "        for param in self.bert.parameters():\n",
    "            param.requires_grad = False\n",
    "        self.regressor = nn.Sequential(\n",
    "            nn.Linear(768+feature_dim, 256),\n",
    "            nn.BatchNorm1d(256),\n",
    "            nn.ReLU(),\n",
    "            nn.Dropout(dropout),\n",
    "            nn.Linear(256, 64),\n",
    "            nn.ReLU(),\n",
    "            nn.Dropout(dropout),\n",
    "            nn.Linear(64, 1)\n",
    "        )\n",
    "\n",
    "\n",
    "    def forward(self, input_ids, attention_mask, features1, features2):\n",
    "        bert_out = self.bert(input_ids=input_ids, attention_mask=attention_mask)\n",
    "        bert_out2 = self.bert(input_ids=features1, attention_mask=features2)\n",
    "\n",
    "        cls_emb = bert_out.last_hidden_state[:, 0, :]\n",
    "        cls_emb2 = bert_out2.last_hidden_state[:, 0, :]\n",
    "\n",
    "        cos_sim = nn.CosineSimilarity(dim=1)(cls_emb, cls_emb2)  # (B,)\n",
    "        cos_sim = cos_sim.unsqueeze(1)  # (B, 1)\n",
    "        cos_sim = cos_sim * 5\n",
    "        cos_sim = cos_sim.expand(-1, 32)  # (B, 32)\n",
    "\n",
    "        concat = torch.cat([cos_sim, cls_emb], dim=1)  # 최종 concat: (B, 800)\n",
    "        score = self.regressor(concat)\n",
    "        return score"
   ]
  },
  {
   "cell_type": "code",
   "execution_count": null,
   "metadata": {
    "id": "HCuBiVU59bKW"
   },
   "outputs": [],
   "source": [
    "# class CustomDataset(torch.utils.data.Dataset):\n",
    "#     def __init__(self, feature, label, tokenizer):\n",
    "#         self.df=final_df\n",
    "#         self.texts = feature['Review']\n",
    "#         self.features = feature['Category']\n",
    "#         self.labels = label\n",
    "#         self.tokenizer = tokenizer\n",
    "\n",
    "#     def __len__(self):\n",
    "#         return len(self.df)\n",
    "\n",
    "#     def __getitem__(self, idx):\n",
    "#         # encoding = self.tokenizer(\n",
    "#         #     self.texts[idx],\n",
    "#         #     padding='max_length',\n",
    "#         #     truncation=True,\n",
    "#         #     max_length=self.max_len,\n",
    "#         #     return_tensors='pt'\n",
    "#         # )\n",
    "#         reviewvec = self.tokenizer.batch_encode_plus(self.texts[idx])\n",
    "#         categoryvec = self.tokenizer.batch_encode_plus(self.features[idx])\n",
    "#         label = torch.tensor(self.labels[idx], dtype=torch.float)\n",
    "#         return {\n",
    "#             'input_ids': reviewvec['input_ids'],\n",
    "#             'attention_mask': reviewvec['attention_mask'],\n",
    "#             'features1': categoryvec['input_ids'],\n",
    "#             'features2' : categoryvec['attention_mask'],\n",
    "#             'labels': label\n",
    "#         }\n",
    "\n",
    "class CustomDataset(torch.utils.data.Dataset):\n",
    "    def __init__(self, feature, label, tokenizer):\n",
    "        # ✅ 정확한 데이터 저장\n",
    "        self.texts = feature['Review'].astype(str).reset_index(drop=True)\n",
    "        self.features = feature['Category'].astype(str).reset_index(drop=True)\n",
    "        self.labels = label.reset_index(drop=True)\n",
    "        self.tokenizer = tokenizer\n",
    "\n",
    "    def __len__(self):\n",
    "        return len(self.labels)  # ✅ 또는 len(self.texts)\n",
    "\n",
    "    def __getitem__(self, idx):\n",
    "        # ✅ tokenizer는 return_tensors='pt' 필수\n",
    "        reviewvec = self.tokenizer(\n",
    "            self.texts[idx],\n",
    "            padding='max_length',\n",
    "            truncation=True,\n",
    "            max_length=128,\n",
    "            return_tensors='pt'\n",
    "        )\n",
    "        categoryvec = self.tokenizer(\n",
    "            self.features[idx],\n",
    "            padding='max_length',\n",
    "            truncation=True,\n",
    "            max_length=32,\n",
    "            return_tensors='pt'\n",
    "        )\n",
    "\n",
    "        label = torch.tensor(self.labels[idx], dtype=torch.float)\n",
    "\n",
    "        return {\n",
    "            'input_ids': reviewvec['input_ids'].squeeze(0),\n",
    "            'attention_mask': reviewvec['attention_mask'].squeeze(0),\n",
    "            'features1': categoryvec['input_ids'].squeeze(0),\n",
    "            'features2': categoryvec['attention_mask'].squeeze(0),\n",
    "            'labels': label\n",
    "        }"
   ]
  },
  {
   "cell_type": "code",
   "execution_count": null,
   "metadata": {
    "colab": {
     "base_uri": "https://localhost:8080/"
    },
    "executionInfo": {
     "elapsed": 10835906,
     "status": "ok",
     "timestamp": 1748801890524,
     "user": {
      "displayName": "김승준",
      "userId": "02417001283222051753"
     },
     "user_tz": -540
    },
    "id": "rnyY3jv4DgBT",
    "outputId": "d646375b-fb25-4376-964a-c88d457ffc89"
   },
   "outputs": [],
   "source": [
    "from torch.utils.data import Dataset, DataLoader\n",
    "from sklearn.metrics import mean_squared_error\n",
    "from tqdm import tqdm\n",
    "import time\n",
    "\n",
    "rr = RatingRegression(32)\n",
    "optimizer = torch.optim.Adam(params=rr.parameters(), lr=1e-3, weight_decay=1e-5)\n",
    "criterion = nn.MSELoss()\n",
    "tokenizer = BertTokenizer.from_pretrained('bert-base-uncased')\n",
    "\n",
    "train_dataset = CustomDataset(X_train, y_train, tokenizer)\n",
    "train_dataloader = DataLoader(train_dataset, batch_size=32, shuffle=True)\n",
    "\n",
    "\n",
    "\n",
    "device = torch.device(\"cuda:0\" if torch.cuda.is_available() else \"cpu\")\n",
    "rr = rr.to(device)\n",
    "rr.train()\n",
    "\n",
    "train_loss_avg = []\n",
    "\n",
    "print('Training ...')\n",
    "for epoch in range(1):\n",
    "    num_batches = 0\n",
    "\n",
    "    for batch in tqdm(train_dataloader):\n",
    "        input_ids = batch['input_ids'].to(device)\n",
    "        attention_mask = batch['attention_mask'].to(device)\n",
    "        features1 = batch['features1'].to(device)\n",
    "        features2 = batch['features2'].to(device)\n",
    "        labels = batch['labels'].to(device)\n",
    "\n",
    "        outputs = rr(input_ids=input_ids, attention_mask=attention_mask, features1=features1, features2=features2)\n",
    "        loss = criterion(outputs.squeeze(), labels)\n",
    "        optimizer.zero_grad()\n",
    "        loss.backward()\n",
    "        optimizer.step()\n"
   ]
  },
  {
   "cell_type": "code",
   "execution_count": null,
   "metadata": {
    "colab": {
     "base_uri": "https://localhost:8080/"
    },
    "executionInfo": {
     "elapsed": 22,
     "status": "ok",
     "timestamp": 1748803116728,
     "user": {
      "displayName": "김승준",
      "userId": "02417001283222051753"
     },
     "user_tz": -540
    },
    "id": "hQS9oEvWycru",
    "outputId": "a87077a9-52cd-4c8f-e6b2-7ed3c2d7c0b3"
   },
   "outputs": [],
   "source": [
    "loss"
   ]
  },
  {
   "cell_type": "code",
   "execution_count": null,
   "metadata": {
    "id": "JOIy1tk5tzqy"
   },
   "outputs": [],
   "source": [
    "torch.save(rr.state_dict(),'/content/drive/MyDrive/deeplearning/models/rr1.pth')"
   ]
  },
  {
   "cell_type": "code",
   "execution_count": null,
   "metadata": {
    "id": "k50PuQJs8vgo"
   },
   "outputs": [],
   "source": [
    "device = torch.device(\"cuda:0\" if torch.cuda.is_available() else \"cpu\")\n",
    "rr = rr.to(device)\n",
    "rr.eval()\n",
    "\n",
    "text2 = \"A boy\"\n",
    "text3 = \"it is like a handsome guy\"\n",
    "inputs2 = tokenizer.batch_encode_plus([text2], padding='max_length', truncation=True, max_length=128, return_tensors='pt')\n",
    "inputs3 = tokenizer.batch_encode_plus([text3], padding='max_length', truncation=True, max_length=32, return_tensors='pt')\n",
    "\n",
    "out3 = rr(\n",
    "    input_ids = inputs2['input_ids'].to(device),\n",
    "    attention_mask = inputs2['attention_mask'].to(device),\n",
    "    features1 = inputs3['input_ids'].to(device),\n",
    "    features2 = inputs3['attention_mask'].to(device)\n",
    ")"
   ]
  },
  {
   "cell_type": "code",
   "execution_count": null,
   "metadata": {
    "colab": {
     "base_uri": "https://localhost:8080/"
    },
    "executionInfo": {
     "elapsed": 7,
     "status": "ok",
     "timestamp": 1748802499858,
     "user": {
      "displayName": "김승준",
      "userId": "02417001283222051753"
     },
     "user_tz": -540
    },
    "id": "s-EG84qK9-gn",
    "outputId": "f8b8e4d5-cc7b-49f1-b4ce-4f63cc087e72"
   },
   "outputs": [],
   "source": [
    "out3"
   ]
  },
  {
   "cell_type": "code",
   "execution_count": null,
   "metadata": {
    "id": "2eBUpwaMwO5f"
   },
   "outputs": [],
   "source": [
    "import torch.nn as nn\n",
    "from transformers import BertModel\n",
    "\n",
    "class RatingRegression2(nn.Module):\n",
    "    def __init__(self, feature_dim, dropout=0.1):\n",
    "        super().__init__()\n",
    "        self.bert = BertModel.from_pretrained('bert-base-uncased')\n",
    "        self.dropout = nn.Dropout(dropout)\n",
    "        for param in self.bert.parameters():\n",
    "            param.requires_grad = False\n",
    "        self.regressor = nn.Sequential(\n",
    "            nn.Linear(768+feature_dim, 768),\n",
    "            nn.BatchNorm1d(768),\n",
    "            nn.ReLU(),\n",
    "            nn.Dropout(dropout),\n",
    "            nn.Linear(768, 256),\n",
    "            nn.ReLU(),\n",
    "            nn.Dropout(dropout),\n",
    "            nn.Linear(256, 64),\n",
    "            nn.ReLU(),\n",
    "            nn.Dropout(dropout),\n",
    "            nn.Linear(64, 1)\n",
    "        )\n",
    "\n",
    "\n",
    "    def forward(self, input_ids, attention_mask, features1, features2):\n",
    "        bert_out = self.bert(input_ids=input_ids, attention_mask=attention_mask)\n",
    "        bert_out2 = self.bert(input_ids=features1, attention_mask=features2)\n",
    "\n",
    "        cls_emb = bert_out.last_hidden_state[:, 0, :]\n",
    "        cls_emb2 = bert_out2.last_hidden_state[:, 0, :]\n",
    "\n",
    "        concat = torch.cat([cls_emb, cls_emb2], dim=1)  # 최종 concat: (B, 800)\n",
    "        score = self.regressor(concat)\n",
    "        return score"
   ]
  },
  {
   "cell_type": "code",
   "execution_count": null,
   "metadata": {
    "colab": {
     "base_uri": "https://localhost:8080/",
     "height": 374
    },
    "executionInfo": {
     "elapsed": 505,
     "status": "error",
     "timestamp": 1748849021994,
     "user": {
      "displayName": "김승준",
      "userId": "02417001283222051753"
     },
     "user_tz": -540
    },
    "id": "XF9G5tyfxlo_",
    "outputId": "61cce111-7783-4f87-bffd-88f410a97cb5"
   },
   "outputs": [],
   "source": [
    "from torch.utils.data import Dataset, DataLoader\n",
    "from sklearn.metrics import mean_squared_error\n",
    "from tqdm import tqdm\n",
    "import time\n",
    "\n",
    "rr2 = RatingRegression2(768)\n",
    "optimizer2 = torch.optim.Adam(params=rr2.parameters(), lr=1e-3, weight_decay=1e-5)\n",
    "criterion = nn.MSELoss()\n",
    "tokenizer = BertTokenizer.from_pretrained('bert-base-uncased')\n",
    "\n",
    "train_dataset2 = CustomDataset(X_train, y_train, tokenizer)\n",
    "train_dataloader = DataLoader(train_dataset, batch_size=32, shuffle=True)\n",
    "\n",
    "\n",
    "\n",
    "device = torch.device(\"cuda:0\" if torch.cuda.is_available() else \"cpu\")\n",
    "rr2 = rr2.to(device)\n",
    "rr2.train()\n",
    "\n",
    "train_loss_avg = []\n",
    "\n",
    "print('Training ...')\n",
    "for epoch in range(1):\n",
    "    train_loss_avg.append(0)\n",
    "    num_batches = 0\n",
    "\n",
    "    for batch in tqdm(train_dataloader):\n",
    "        input_ids = batch['input_ids'].to(device)\n",
    "        attention_mask = batch['attention_mask'].to(device)\n",
    "        features1 = batch['features1'].to(device)\n",
    "        features2 = batch['features2'].to(device)\n",
    "        labels = batch['labels'].to(device)\n",
    "\n",
    "        outputs2 = rr2(input_ids=input_ids, attention_mask=attention_mask, features1=features1, features2=features2)\n",
    "        loss2 = criterion(outputs2.squeeze(), labels)\n",
    "        optimizer2.zero_grad()\n",
    "        loss2.backward()\n",
    "        optimizer2.step()\n",
    "\n",
    "\n",
    "torch.save(rr2.state_dict(),'/content/drive/MyDrive/deeplearning/models/rr2.pth')"
   ]
  },
  {
   "cell_type": "code",
   "execution_count": null,
   "metadata": {
    "id": "3T7mRW5pd8y_"
   },
   "outputs": [],
   "source": [
    "import torch.nn as nn\n",
    "from transformers import BertModel\n",
    "\n",
    "class RatingRegression3(nn.Module):\n",
    "    def __init__(self, dropout=0.1):\n",
    "        super().__init__()\n",
    "        self.bert = BertModel.from_pretrained('bert-base-uncased')\n",
    "        self.dropout = nn.Dropout(dropout)\n",
    "        for param in self.bert.parameters():\n",
    "            param.requires_grad = False\n",
    "        self.encoder1 = nn.Sequential(\n",
    "            nn.Linear(768, 256),\n",
    "            nn.BatchNorm1d(256),\n",
    "            nn.ReLU(),\n",
    "            nn.Dropout(dropout),\n",
    "            nn.Linear(256, 64),\n",
    "            nn.Tanh()\n",
    "        )\n",
    "        self.encoder2 = nn.Sequential(\n",
    "            nn.Linear(768, 256),\n",
    "            nn.BatchNorm1d(256),\n",
    "            nn.ReLU(),\n",
    "            nn.Dropout(dropout),\n",
    "            nn.Linear(256, 64),\n",
    "            nn.Tanh()\n",
    "        )\n",
    "        self.regressor = nn.Sequential(\n",
    "            nn.Linear(96, 64),\n",
    "            nn.ReLU(),\n",
    "            nn.Dropout(dropout),\n",
    "            nn.Linear(64, 32),\n",
    "            nn.ReLU(),\n",
    "            nn.Dropout(dropout),\n",
    "            nn.Linear(32, 1),\n",
    "        )\n",
    "\n",
    "\n",
    "    def forward(self, input_ids, attention_mask, features1, features2):\n",
    "        bert_out = self.bert(input_ids=input_ids, attention_mask=attention_mask)\n",
    "        bert_out2 = self.bert(input_ids=features1, attention_mask=features2)\n",
    "\n",
    "        cls_emb = bert_out.last_hidden_state[:, 0, :]\n",
    "        cls_emb2 = bert_out2.last_hidden_state[:, 0, :]\n",
    "\n",
    "        cls_emb = self.encoder1(cls_emb)\n",
    "        cls_emb2 = self.encoder2(cls_emb2)\n",
    "        cos_sim = nn.CosineSimilarity(dim=1)(cls_emb, cls_emb2)\n",
    "        cos_sim = cos_sim.unsqueeze(1)\n",
    "        cos_sim = cos_sim.expand(-1, 32)\n",
    "\n",
    "        concat = torch.cat([cos_sim, cls_emb], dim=1)  # 최종 concat: (B, 800)\n",
    "        score = self.regressor(concat)\n",
    "        return score"
   ]
  },
  {
   "cell_type": "code",
   "execution_count": null,
   "metadata": {
    "colab": {
     "base_uri": "https://localhost:8080/"
    },
    "executionInfo": {
     "elapsed": 11208516,
     "status": "ok",
     "timestamp": 1748860282970,
     "user": {
      "displayName": "김승준",
      "userId": "02417001283222051753"
     },
     "user_tz": -540
    },
    "id": "6vfT8Vs6d9zM",
    "outputId": "b4d4a70e-38ad-48a3-c6cd-4a9b21539610"
   },
   "outputs": [],
   "source": [
    "from torch.utils.data import Dataset, DataLoader\n",
    "from sklearn.metrics import mean_squared_error\n",
    "from tqdm import tqdm\n",
    "import time\n",
    "\n",
    "rr3 = RatingRegression3()\n",
    "optimizer3 = torch.optim.Adam(params=rr3.parameters(), lr=1e-3, weight_decay=1e-5)\n",
    "criterion = nn.MSELoss()\n",
    "tokenizer = BertTokenizer.from_pretrained('bert-base-uncased')\n",
    "\n",
    "train_dataset3 = CustomDataset(X_train, y_train, tokenizer)\n",
    "train_dataloader = DataLoader(train_dataset3, batch_size=32, shuffle=True)\n",
    "\n",
    "\n",
    "\n",
    "device = torch.device(\"cuda:0\" if torch.cuda.is_available() else \"cpu\")\n",
    "rr3 = rr3.to(device)\n",
    "rr3.train()\n",
    "\n",
    "train_loss_avg = []\n",
    "\n",
    "print('Training ...')\n",
    "for epoch in range(1):\n",
    "    num_batches = 0\n",
    "\n",
    "    for batch in tqdm(train_dataloader):\n",
    "        input_ids = batch['input_ids'].to(device)\n",
    "        attention_mask = batch['attention_mask'].to(device)\n",
    "        features1 = batch['features1'].to(device)\n",
    "        features2 = batch['features2'].to(device)\n",
    "        labels = batch['labels'].to(device)\n",
    "\n",
    "        outputs3 = rr3(input_ids=input_ids, attention_mask=attention_mask, features1=features1, features2=features2)\n",
    "        loss3 = criterion(outputs3.squeeze(), labels)\n",
    "        optimizer3.zero_grad()\n",
    "        loss3.backward()\n",
    "        optimizer3.step()\n",
    "\n",
    "\n",
    "torch.save(rr3.state_dict(),'/content/drive/MyDrive/deeplearning/models/rr3.pth')"
   ]
  },
  {
   "cell_type": "code",
   "execution_count": null,
   "metadata": {
    "colab": {
     "base_uri": "https://localhost:8080/",
     "height": 1000,
     "referenced_widgets": [
      "6b85d1bd55fe4bf092414e760e66b0e1",
      "3d240bbab8d446ceb15eadaace1c7ad9",
      "d37ac7d6b5864d41b1d5304634be12c3",
      "668f94d53879419da34882a055356593",
      "2ab02a3060b84da5943fb3edf45e3bae",
      "0399948845f8420580c58c7b6797aa35",
      "be4ad0f1bd57446aa51eee2465f4cd4a",
      "41468042ea34484190e8dc568db9a483",
      "f6f2dbf29745401b98e8899725b2d8a9",
      "752025722f2e431b97ee01b47ebff370",
      "9c78bc247f33449fada1693e235ac541",
      "715c53ca0bf446dcb5af99c85ee56f11",
      "b0ba395913ab4c5e9fa477043dcb39e5",
      "70ec69ae31704dc5bb0e18d22a512786",
      "b2704d3f162f410e9e5be433fd9c0303",
      "e3d4f3d17f7e452faf3779782c0c25ff",
      "8f1403f847244ea9985ea99e16b47a1d",
      "9600fef2e19d47e2bd7fe53dcd0f3aa4",
      "177b6a3575c649bfa90513e79ca4bfec",
      "3341b83b241747b195b0b0b562572cb1",
      "0e46e501aa464457b8ed86152109f24e",
      "63ba38345559496d8a47531d99f56309"
     ]
    },
    "executionInfo": {
     "elapsed": 18073,
     "status": "ok",
     "timestamp": 1748928850401,
     "user": {
      "displayName": "김승준",
      "userId": "02417001283222051753"
     },
     "user_tz": -540
    },
    "id": "Z2QaHsswMVAh",
    "outputId": "df323cb4-5184-4119-b339-a6d3f19e0ee3"
   },
   "outputs": [],
   "source": [
    "import torch\n",
    "rr1 = RatingRegression(32)\n",
    "rr1.load_state_dict(torch.load('/content/drive/MyDrive/deeplearning/models/rr1.pth',map_location=torch.device('cpu')))\n",
    "rr1.eval()\n",
    "rr2 = RatingRegression2(768)\n",
    "rr2.load_state_dict(torch.load('/content/drive/MyDrive/deeplearning/models/rr2.pth',map_location=torch.device('cpu')))\n",
    "rr2.eval()"
   ]
  },
  {
   "cell_type": "code",
   "execution_count": null,
   "metadata": {
    "colab": {
     "base_uri": "https://localhost:8080/"
    },
    "executionInfo": {
     "elapsed": 7053,
     "status": "ok",
     "timestamp": 1748928860714,
     "user": {
      "displayName": "김승준",
      "userId": "02417001283222051753"
     },
     "user_tz": -540
    },
    "id": "SzU_vCQj4pWU",
    "outputId": "ab9fae34-6c20-4587-bc55-f87495e8a5b4"
   },
   "outputs": [],
   "source": [
    "rr3 = RatingRegression3()\n",
    "rr3.load_state_dict(torch.load('/content/drive/MyDrive/deeplearning/models/rr3.pth',map_location=torch.device('cpu')))\n",
    "rr3.eval()"
   ]
  },
  {
   "cell_type": "code",
   "execution_count": null,
   "metadata": {
    "colab": {
     "base_uri": "https://localhost:8080/"
    },
    "executionInfo": {
     "elapsed": 2747741,
     "status": "ok",
     "timestamp": 1748863930771,
     "user": {
      "displayName": "김승준",
      "userId": "02417001283222051753"
     },
     "user_tz": -540
    },
    "id": "FC4zhJsSNsWB",
    "outputId": "da98f40b-6cef-469e-9331-f762152ff234"
   },
   "outputs": [],
   "source": [
    "test_dataset = CustomDataset(X_test, y_test, tokenizer)\n",
    "test_dataloader = DataLoader(test_dataset, batch_size=32, shuffle=False)\n",
    "all_preds = []\n",
    "all_targets = []\n",
    "rr1=rr1.to(device)\n",
    "with torch.no_grad():\n",
    "    for batch in tqdm(test_dataloader):\n",
    "        input_ids = batch['input_ids'].to(device)\n",
    "        attention_mask = batch['attention_mask'].to(device)\n",
    "        features1 = batch['features1'].to(device)\n",
    "        features2 = batch['features2'].to(device)\n",
    "        labels = batch['labels'].to(device)\n",
    "\n",
    "        outputs = rr1(input_ids=input_ids, attention_mask=attention_mask, features1=features1, features2=features2)\n",
    "        all_preds.append(outputs.cpu())\n",
    "        all_targets.append(labels.cpu())\n",
    "\n",
    "preds = torch.cat(all_preds).numpy()\n",
    "targets = torch.cat(all_targets).numpy()"
   ]
  },
  {
   "cell_type": "code",
   "execution_count": null,
   "metadata": {
    "colab": {
     "base_uri": "https://localhost:8080/"
    },
    "executionInfo": {
     "elapsed": 2746219,
     "status": "ok",
     "timestamp": 1748866686618,
     "user": {
      "displayName": "김승준",
      "userId": "02417001283222051753"
     },
     "user_tz": -540
    },
    "id": "Gdj2f5OBQPsC",
    "outputId": "0feae2c4-1121-4f92-eb39-65b4706daa81"
   },
   "outputs": [],
   "source": [
    "test_dataset = CustomDataset(X_test, y_test, tokenizer)\n",
    "test_dataloader = DataLoader(test_dataset, batch_size=32, shuffle=False)\n",
    "all_preds2 = []\n",
    "all_targets2 = []\n",
    "rr2=rr2.to(device)\n",
    "with torch.no_grad():\n",
    "    for batch in tqdm(test_dataloader):\n",
    "        input_ids = batch['input_ids'].to(device)\n",
    "        attention_mask = batch['attention_mask'].to(device)\n",
    "        features1 = batch['features1'].to(device)\n",
    "        features2 = batch['features2'].to(device)\n",
    "        labels = batch['labels'].to(device)\n",
    "\n",
    "        outputs = rr2(input_ids=input_ids, attention_mask=attention_mask, features1=features1, features2=features2)\n",
    "        all_preds2.append(outputs.cpu())\n",
    "        all_targets2.append(labels.cpu())\n",
    "\n",
    "preds2 = torch.cat(all_preds2).numpy()\n",
    "targets2 = torch.cat(all_targets2).numpy()"
   ]
  },
  {
   "cell_type": "code",
   "execution_count": null,
   "metadata": {
    "colab": {
     "base_uri": "https://localhost:8080/"
    },
    "executionInfo": {
     "elapsed": 2773088,
     "status": "ok",
     "timestamp": 1748869463553,
     "user": {
      "displayName": "김승준",
      "userId": "02417001283222051753"
     },
     "user_tz": -540
    },
    "id": "ZjOLNl0ORUHA",
    "outputId": "ff704747-1176-442d-edbb-ea9727288282"
   },
   "outputs": [],
   "source": [
    "test_dataset = CustomDataset(X_test, y_test, tokenizer)\n",
    "test_dataloader = DataLoader(test_dataset, batch_size=32, shuffle=False)\n",
    "all_preds3 = []\n",
    "all_targets3 = []\n",
    "rr3=rr3.to(device)\n",
    "with torch.no_grad():\n",
    "    for batch in tqdm(test_dataloader):\n",
    "        input_ids = batch['input_ids'].to(device)\n",
    "        attention_mask = batch['attention_mask'].to(device)\n",
    "        features1 = batch['features1'].to(device)\n",
    "        features2 = batch['features2'].to(device)\n",
    "        labels = batch['labels'].to(device)\n",
    "\n",
    "        outputs = rr3(input_ids=input_ids, attention_mask=attention_mask, features1=features1, features2=features2)\n",
    "        all_preds3.append(outputs.cpu())\n",
    "        all_targets3.append(labels.cpu())\n",
    "\n",
    "preds3 = torch.cat(all_preds3).numpy()\n",
    "targets3 = torch.cat(all_targets3).numpy()"
   ]
  },
  {
   "cell_type": "code",
   "execution_count": null,
   "metadata": {
    "id": "_w9WA47nvkoK"
   },
   "outputs": [],
   "source": [
    "import numpy as np\n",
    "np.save('/content/drive/MyDrive/deeplearning/models/preds1', preds)\n",
    "np.save('/content/drive/MyDrive/deeplearning/models/preds2', preds2)\n",
    "np.save('/content/drive/MyDrive/deeplearning/models/preds3', preds3)\n",
    "np.save('/content/drive/MyDrive/deeplearning/models/targets1', targets)\n",
    "np.save('/content/drive/MyDrive/deeplearning/models/targets2', targets2)\n",
    "np.save('/content/drive/MyDrive/deeplearning/models/targets3', targets3)"
   ]
  },
  {
   "cell_type": "code",
   "execution_count": null,
   "metadata": {
    "colab": {
     "base_uri": "https://localhost:8080/"
    },
    "executionInfo": {
     "elapsed": 49,
     "status": "ok",
     "timestamp": 1748869919120,
     "user": {
      "displayName": "김승준",
      "userId": "02417001283222051753"
     },
     "user_tz": -540
    },
    "id": "zFsKgxKFwJ-d",
    "outputId": "60e7a3d6-7bfe-4cc7-b4af-fd546ece384f"
   },
   "outputs": [],
   "source": [
    "from sklearn.metrics import mean_absolute_error, mean_squared_error, r2_score\n",
    "import numpy as np\n",
    "from sklearn.metrics import mean_absolute_percentage_error\n",
    "\n",
    "\n",
    "\n",
    "# preds, targets는 위에서 수집한 예측값과 실제값 numpy 배열\n",
    "mae = mean_absolute_error(targets, preds)\n",
    "mse = mean_squared_error(targets, preds)\n",
    "rmse = np.sqrt(mse)\n",
    "r2 = r2_score(targets, preds)\n",
    "mape = mean_absolute_percentage_error(targets, preds) * 100\n",
    "\n",
    "print(f\"M1_MAE: {mae:.4f}\")\n",
    "print(f\"M1_MSE: {mse:.4f}\")\n",
    "print(f\"M1_RMSE: {rmse:.4f}\")\n",
    "print(f\"M1_R^2: {r2:.4f}\")\n",
    "print(f\"M1_MAPE: {mape:.4f}\")\n",
    "\n",
    "mae = mean_absolute_error(targets2, preds2)\n",
    "mse = mean_squared_error(targets2, preds2)\n",
    "rmse = np.sqrt(mse)\n",
    "r2 = r2_score(targets2, preds2)\n",
    "mape = mean_absolute_percentage_error(targets2, preds2) * 100\n",
    "\n",
    "print(f\"M2_MAE: {mae:.4f}\")\n",
    "print(f\"M2_MSE: {mse:.4f}\")\n",
    "print(f\"M2_RMSE: {rmse:.4f}\")\n",
    "print(f\"M2_R^2: {r2:.4f}\")\n",
    "print(f\"M2_MAPE: {mape:.4f}\")\n",
    "\n",
    "mae = mean_absolute_error(targets3, preds3)\n",
    "mse = mean_squared_error(targets3, preds3)\n",
    "rmse = np.sqrt(mse)\n",
    "r2 = r2_score(targets3, preds3)\n",
    "mape = mean_absolute_percentage_error(targets3, preds3) * 100\n",
    "\n",
    "print(f\"M3_MAE: {mae:.4f}\")\n",
    "print(f\"M3_MSE: {mse:.4f}\")\n",
    "print(f\"M3_RMSE: {rmse:.4f}\")\n",
    "print(f\"M3_R^2: {r2:.4f}\")\n",
    "print(f\"M3_MAPE: {mape:.4f}\")"
   ]
  },
  {
   "cell_type": "code",
   "execution_count": null,
   "metadata": {
    "colab": {
     "base_uri": "https://localhost:8080/"
    },
    "executionInfo": {
     "elapsed": 715,
     "status": "ok",
     "timestamp": 1748930351340,
     "user": {
      "displayName": "김승준",
      "userId": "02417001283222051753"
     },
     "user_tz": -540
    },
    "id": "yI8ANw71xlbu",
    "outputId": "e6e5bd3a-ba2f-4468-8025-635ec9899358"
   },
   "outputs": [],
   "source": [
    "from transformers import BertTokenizer, BertModel\n",
    "device = torch.device(\"cuda:0\" if torch.cuda.is_available() else \"cpu\")\n",
    "tokenizer = BertTokenizer.from_pretrained('bert-base-uncased')\n",
    "rr1 = rr1.to(device)\n",
    "rr1.eval()\n",
    "\n",
    "rev = \"It's very hot and steaming\"\n",
    "cat = \"a ice pack\"\n",
    "revvec = tokenizer.batch_encode_plus([rev], padding='max_length', truncation=True, max_length=128, return_tensors='pt')\n",
    "catvec = tokenizer.batch_encode_plus([cat], padding='max_length', truncation=True, max_length=32, return_tensors='pt')\n",
    "\n",
    "print(rr1(\n",
    "    input_ids = revvec['input_ids'].to(device),\n",
    "    attention_mask = revvec['attention_mask'].to(device),\n",
    "    features1 = catvec['input_ids'].to(device),\n",
    "    features2 = catvec['attention_mask'].to(device)\n",
    "))"
   ]
  },
  {
   "cell_type": "code",
   "execution_count": null,
   "metadata": {
    "colab": {
     "base_uri": "https://localhost:8080/"
    },
    "executionInfo": {
     "elapsed": 10,
     "status": "ok",
     "timestamp": 1748870690984,
     "user": {
      "displayName": "김승준",
      "userId": "02417001283222051753"
     },
     "user_tz": -540
    },
    "id": "a_919BPW0Hbi",
    "outputId": "e99bc5e1-702d-4b65-cfa6-3a53eb029a47"
   },
   "outputs": [],
   "source": [
    "print(\"model1 : \", sum(p.numel() for p in rr1.parameters() if p.requires_grad))\n",
    "print(\"model2 : \", sum(p.numel() for p in rr2.parameters() if p.requires_grad))\n",
    "print(\"model3 : \", sum(p.numel() for p in rr3.parameters() if p.requires_grad))"
   ]
  }
 ],
 "metadata": {
  "colab": {
   "authorship_tag": "ABX9TyMGsKD3N5j8+QuicRIdTgEi",
   "machine_shape": "hm",
   "provenance": []
  },
  "kernelspec": {
   "display_name": "Python 3",
   "name": "python3"
  },
  "language_info": {
   "name": "python"
  }
 },
 "nbformat": 4,
 "nbformat_minor": 0
}
